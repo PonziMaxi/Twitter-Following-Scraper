{
  "nbformat": 4,
  "nbformat_minor": 0,
  "metadata": {
    "colab": {
      "provenance": [],
      "authorship_tag": "ABX9TyObI7GQyE/DdV/S5zfK9izH",
      "include_colab_link": true
    },
    "kernelspec": {
      "name": "python3",
      "display_name": "Python 3"
    },
    "language_info": {
      "name": "python"
    }
  },
  "cells": [
    {
      "cell_type": "markdown",
      "metadata": {
        "id": "view-in-github",
        "colab_type": "text"
      },
      "source": [
        "<a href=\"https://colab.research.google.com/github/PonziMaxi/Twitter-Following-Scraper/blob/main/twitter_follower_scrape.ipynb\" target=\"_parent\"><img src=\"https://colab.research.google.com/assets/colab-badge.svg\" alt=\"Open In Colab\"/></a>"
      ]
    },
    {
      "cell_type": "code",
      "execution_count": null,
      "metadata": {
        "id": "EQFH3cYaRCPA"
      },
      "outputs": [],
      "source": [
        "#You can remove the pip install after the first run\n",
        "!pip install tweepy\n",
        "import tweepy\n",
        "from tweepy import OAuthHandler\n",
        "\n",
        "#Installation / Access to Twitter account - You need to create a Twitter developer account that will provide you with these API keys which you insert into the quotations\n",
        "consumer_key = ''\n",
        "consumer_secret = ''\n",
        "access_token = ''\n",
        "access_token_secret = ''\n",
        "\n",
        "\n",
        "auth = tweepy.OAuthHandler(consumer_key, consumer_secret)\n",
        "auth.set_access_token(access_token, access_token_secret)\n",
        "api = tweepy.API(auth, wait_on_rate_limit = True)\n",
        "\n",
        "#Replace '20' with however many recent follows you want to track\n",
        "def scrape_user_friends(username):\n",
        "    friends_scraped = []\n",
        "    user = api.get_user(username)\n",
        "    for i, _id in enumerate(tweepy.Cursor(api.friends_ids,\n",
        "                                          screen_name = username).items(20)):\n",
        "        friends_scraped.append(_id)\n",
        "    # Sort the list of friends by the `created_at` attribute in reverse chronological order\n",
        "    friends_scraped.sort(key=lambda x: api.get_user(x).created_at, reverse=True)\n",
        "    return friends_scraped\n",
        "\n",
        "#Replace 'example' with the Twitter username you want to track\n",
        "friends = scrape_user_friends('example')\n",
        "for i in range(len(friends)):\n",
        "    screen_name = api.get_user(friends[i]).screen_name\n",
        "    print(i, screen_name)"
      ]
    }
  ]
}